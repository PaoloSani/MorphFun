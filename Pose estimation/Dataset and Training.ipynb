{
 "cells": [
  {
   "cell_type": "code",
   "execution_count": null,
   "metadata": {
    "pycharm": {
     "is_executing": true,
     "name": "#%%\n"
    }
   },
   "outputs": [
    {
     "ename": "",
     "evalue": "",
     "output_type": "error",
     "traceback": [
      "\u001b[1;31mRunning cells with 'Python 3.10.4 ('MorphFun')' requires ipykernel package.\n",
      "Run the following command to install 'ipykernel' into the Python environment. \n",
      "Command: 'conda install -n MorphFun ipykernel --update-deps --force-reinstall'"
     ]
    }
   ],
   "source": [
    "# 1. Import and Install Dependencies"
   ]
  },
  {
   "cell_type": "code",
   "execution_count": null,
   "metadata": {
    "pycharm": {
     "name": "#%%\n"
    }
   },
   "outputs": [
    {
     "data": {
      "text/plain": [
       "' !pip install tensorflow==2.4.1 tensorflow-gpu==2.4.1 opencv-python mediapipe sklearn matplotlib '"
      ]
     },
     "execution_count": 2,
     "metadata": {},
     "output_type": "execute_result"
    },
    {
     "ename": "",
     "evalue": "",
     "output_type": "error",
     "traceback": [
      "\u001b[1;31mJupyter cannot be started. Error attempting to locate jupyter: Select an Interpreter to start Jupyter\n",
      "Run the following command to install 'jupyter and notebook' into the Python environment. \n",
      "Command: 'python -m pip install jupyter notebook -U\n",
      "or\n",
      "conda install jupyter notebook -U'\n",
      "Click <a href='https://aka.ms/installJupyterForVSCode'>here</a> for more info."
     ]
    }
   ],
   "source": [
    "\"\"\" !pip install tensorflow==2.4.1 tensorflow-gpu==2.4.1 opencv-python mediapipe sklearn matplotlib \"\"\"\n"
   ]
  },
  {
   "cell_type": "code",
   "execution_count": null,
   "metadata": {
    "pycharm": {
     "name": "#%%\n"
    }
   },
   "outputs": [
    {
     "ename": "",
     "evalue": "",
     "output_type": "error",
     "traceback": [
      "\u001b[1;31mJupyter cannot be started. Error attempting to locate jupyter: Select an Interpreter to start Jupyter\n",
      "Run the following command to install 'jupyter and notebook' into the Python environment. \n",
      "Command: 'python -m pip install jupyter notebook -U\n",
      "or\n",
      "conda install jupyter notebook -U'\n",
      "Click <a href='https://aka.ms/installJupyterForVSCode'>here</a> for more info."
     ]
    }
   ],
   "source": [
    "import cv2\n",
    "import numpy as np\n",
    "import os\n",
    "from matplotlib import pyplot as plt\n",
    "import time\n",
    "import mediapipe as mp"
   ]
  },
  {
   "cell_type": "code",
   "execution_count": null,
   "metadata": {
    "pycharm": {
     "name": "#%%\n"
    }
   },
   "outputs": [
    {
     "ename": "",
     "evalue": "",
     "output_type": "error",
     "traceback": [
      "\u001b[1;31mJupyter cannot be started. Error attempting to locate jupyter: Select an Interpreter to start Jupyter\n",
      "Run the following command to install 'jupyter and notebook' into the Python environment. \n",
      "Command: 'python -m pip install jupyter notebook -U\n",
      "or\n",
      "conda install jupyter notebook -U'\n",
      "Click <a href='https://aka.ms/installJupyterForVSCode'>here</a> for more info."
     ]
    }
   ],
   "source": [
    "mp_holistic = mp.solutions.holistic # Holistic model\n",
    "mp_drawing = mp.solutions.drawing_utils # Drawing utilities"
   ]
  },
  {
   "cell_type": "code",
   "execution_count": null,
   "metadata": {
    "pycharm": {
     "name": "#%%\n"
    }
   },
   "outputs": [
    {
     "ename": "",
     "evalue": "",
     "output_type": "error",
     "traceback": [
      "\u001b[1;31mJupyter cannot be started. Error attempting to locate jupyter: Select an Interpreter to start Jupyter\n",
      "Run the following command to install 'jupyter and notebook' into the Python environment. \n",
      "Command: 'python -m pip install jupyter notebook -U\n",
      "or\n",
      "conda install jupyter notebook -U'\n",
      "Click <a href='https://aka.ms/installJupyterForVSCode'>here</a> for more info."
     ]
    }
   ],
   "source": [
    "def mediapipe_detection(image, model):\n",
    "    image = cv2.cvtColor(image, cv2.COLOR_BGR2RGB) # COLOR CONVERSION BGR 2 RGB\n",
    "    image.flags.writeable = False                  # Image is no longer writeable\n",
    "    results = model.process(image)                 # Make prediction\n",
    "    image.flags.writeable = True                   # Image is now writeable \n",
    "    image = cv2.cvtColor(image, cv2.COLOR_RGB2BGR) # COLOR CONVERSION RGB 2 BGR\n",
    "    return image, results"
   ]
  },
  {
   "cell_type": "code",
   "execution_count": null,
   "metadata": {
    "pycharm": {
     "name": "#%%\n"
    }
   },
   "outputs": [
    {
     "ename": "",
     "evalue": "",
     "output_type": "error",
     "traceback": [
      "\u001b[1;31mJupyter cannot be started. Error attempting to locate jupyter: Select an Interpreter to start Jupyter\n",
      "Run the following command to install 'jupyter and notebook' into the Python environment. \n",
      "Command: 'python -m pip install jupyter notebook -U\n",
      "or\n",
      "conda install jupyter notebook -U'\n",
      "Click <a href='https://aka.ms/installJupyterForVSCode'>here</a> for more info."
     ]
    }
   ],
   "source": [
    "def draw_styled_landmarks(image, results):\n",
    "\n",
    "    # Draw pose connections\n",
    "    mp_drawing.draw_landmarks(image, results.pose_landmarks, mp_holistic.POSE_CONNECTIONS,\n",
    "                             mp_drawing.DrawingSpec(color=(80,22,10), thickness=2, circle_radius=4), \n",
    "                             mp_drawing.DrawingSpec(color=(80,44,121), thickness=2, circle_radius=2)\n",
    "                             ) \n",
    "    # Draw left hand connections\n",
    "    mp_drawing.draw_landmarks(image, results.left_hand_landmarks, mp_holistic.HAND_CONNECTIONS, \n",
    "                             mp_drawing.DrawingSpec(color=(121,22,76), thickness=2, circle_radius=4), \n",
    "                             mp_drawing.DrawingSpec(color=(121,44,250), thickness=2, circle_radius=2)\n",
    "                             ) \n",
    "    # Draw right hand connections  \n",
    "    mp_drawing.draw_landmarks(image, results.right_hand_landmarks, mp_holistic.HAND_CONNECTIONS, \n",
    "                             mp_drawing.DrawingSpec(color=(245,117,66), thickness=2, circle_radius=4), \n",
    "                             mp_drawing.DrawingSpec(color=(245,66,230), thickness=2, circle_radius=2)\n",
    "                             ) "
   ]
  },
  {
   "cell_type": "code",
   "execution_count": null,
   "metadata": {
    "pycharm": {
     "name": "#%%\n"
    }
   },
   "outputs": [
    {
     "ename": "",
     "evalue": "",
     "output_type": "error",
     "traceback": [
      "\u001b[1;31mJupyter cannot be started. Error attempting to locate jupyter: Select an Interpreter to start Jupyter\n",
      "Run the following command to install 'jupyter and notebook' into the Python environment. \n",
      "Command: 'python -m pip install jupyter notebook -U\n",
      "or\n",
      "conda install jupyter notebook -U'\n",
      "Click <a href='https://aka.ms/installJupyterForVSCode'>here</a> for more info."
     ]
    }
   ],
   "source": [
    "def extract_keypoints(results):\n",
    "    pose = np.array([[res.x, res.y, res.z, res.visibility] for res in results.pose_landmarks.landmark]).flatten() if results.pose_landmarks else np.zeros(33*4)\n",
    "    lh = np.array([[res.x, res.y, res.z] for res in results.left_hand_landmarks.landmark]).flatten() if results.left_hand_landmarks else np.zeros(21*3)\n",
    "    rh = np.array([[res.x, res.y, res.z] for res in results.right_hand_landmarks.landmark]).flatten() if results.right_hand_landmarks else np.zeros(21*3)\n",
    "    return np.concatenate([pose, lh, rh])"
   ]
  },
  {
   "cell_type": "markdown",
   "metadata": {
    "pycharm": {
     "name": "#%% md\n"
    }
   },
   "source": [
    "# 4. Setup Folders for Collection"
   ]
  },
  {
   "cell_type": "code",
   "execution_count": null,
   "metadata": {
    "pycharm": {
     "name": "#%%\n"
    }
   },
   "outputs": [
    {
     "ename": "",
     "evalue": "",
     "output_type": "error",
     "traceback": [
      "\u001b[1;31mJupyter cannot be started. Error attempting to locate jupyter: Select an Interpreter to start Jupyter\n",
      "Run the following command to install 'jupyter and notebook' into the Python environment. \n",
      "Command: 'python -m pip install jupyter notebook -U\n",
      "or\n",
      "conda install jupyter notebook -U'\n",
      "Click <a href='https://aka.ms/installJupyterForVSCode'>here</a> for more info."
     ]
    }
   ],
   "source": [
    "# Path for exported data, numpy arrays\n",
    "DATA_PATH = os.path.join('Dataset') \n",
    "\n",
    "# Actions that we try to detect\n",
    "actions = np.array(['flute', 'violin', 'trumpet', 'saxophone', 'no action'])\n",
    "\n",
    "# number of videos that we collect for each instrument (we need to create a dataset to train our model on: the more data we have, the better)\n",
    "\n",
    "# set here the number of the sequences you want to track\n",
    "no_sequences = 10\n",
    "\n",
    "# number of frames in a video, which are sequence of frames to be fed to the LSTM Neural Network\n",
    "sequence_length = 30\n"
   ]
  },
  {
   "cell_type": "code",
   "execution_count": null,
   "metadata": {
    "pycharm": {
     "name": "#%%\n"
    }
   },
   "outputs": [
    {
     "ename": "",
     "evalue": "",
     "output_type": "error",
     "traceback": [
      "\u001b[1;31mJupyter cannot be started. Error attempting to locate jupyter: Select an Interpreter to start Jupyter\n",
      "Run the following command to install 'jupyter and notebook' into the Python environment. \n",
      "Command: 'python -m pip install jupyter notebook -U\n",
      "or\n",
      "conda install jupyter notebook -U'\n",
      "Click <a href='https://aka.ms/installJupyterForVSCode'>here</a> for more info."
     ]
    }
   ],
   "source": [
    "for action in actions: \n",
    "    for sequence in range(no_sequences):\n",
    "        try: \n",
    "            os.makedirs(os.path.join(DATA_PATH, action, str(sequence)))\n",
    "        except:\n",
    "            pass"
   ]
  },
  {
   "cell_type": "markdown",
   "metadata": {
    "pycharm": {
     "name": "#%% md\n"
    }
   },
   "source": [
    "# 5. Collect Keypoint Values for Training and Testing"
   ]
  },
  {
   "cell_type": "code",
   "execution_count": null,
   "metadata": {
    "pycharm": {
     "name": "#%%\n"
    }
   },
   "outputs": [
    {
     "ename": "",
     "evalue": "",
     "output_type": "error",
     "traceback": [
      "\u001b[1;31mJupyter cannot be started. Error attempting to locate jupyter: Select an Interpreter to start Jupyter\n",
      "Run the following command to install 'jupyter and notebook' into the Python environment. \n",
      "Command: 'python -m pip install jupyter notebook -U\n",
      "or\n",
      "conda install jupyter notebook -U'\n",
      "Click <a href='https://aka.ms/installJupyterForVSCode'>here</a> for more info."
     ]
    }
   ],
   "source": [
    "cap = cv2.VideoCapture(0)\n",
    "# Set mediapipe model \n",
    "with mp_holistic.Holistic(min_detection_confidence=0.5, min_tracking_confidence=0.5) as holistic:\n",
    "    \n",
    "    # NEW LOOP\n",
    "    # Loop through actions\n",
    "    for action in actions:\n",
    "        # Loop through sequences aka videos\n",
    "        for sequence in range(no_sequences):\n",
    "            # Loop through video length aka sequence length\n",
    "            for frame_num in range(sequence_length):\n",
    "\n",
    "                # Read feed\n",
    "                ret, frame = cap.read()\n",
    "\n",
    "                # Make detections\n",
    "                image, results = mediapipe_detection(frame, holistic)\n",
    "#                 print(results)\n",
    "\n",
    "                # Draw landmarks\n",
    "                draw_styled_landmarks(image, results)\n",
    "                \n",
    "                # NEW Apply wait logic\n",
    "                if frame_num == 0: \n",
    "                    cv2.putText(image, 'STARTING COLLECTION', (120,200), \n",
    "                               cv2.FONT_HERSHEY_SIMPLEX, 1, (0,255, 0), 4, cv2.LINE_AA)\n",
    "                    cv2.putText(image, 'Collecting frames for {} Video Number {}'.format(action, sequence), (15,12), \n",
    "                               cv2.FONT_HERSHEY_SIMPLEX, 0.5, (0, 0, 255), 1, cv2.LINE_AA)\n",
    "                    # Show to screen\n",
    "                    cv2.imshow('OpenCV Feed', image)\n",
    "                    cv2.waitKey(2000)\n",
    "                else: \n",
    "                    cv2.putText(image, 'Collecting frames for {} Video Number {}'.format(action, sequence), (15,12), \n",
    "                               cv2.FONT_HERSHEY_SIMPLEX, 0.5, (0, 0, 255), 1, cv2.LINE_AA)\n",
    "                    # Show to screen\n",
    "                    cv2.imshow('OpenCV Feed', image)\n",
    "                \n",
    "                # NEW Export keypoints\n",
    "                keypoints = extract_keypoints(results)\n",
    "                npy_path = os.path.join(DATA_PATH, action, str(sequence), str(frame_num))\n",
    "                np.save(npy_path, keypoints)\n",
    "\n",
    "                # Break gracefully\n",
    "                if cv2.waitKey(10) & 0xFF == ord('q'):\n",
    "                    break\n",
    "                    \n",
    "    cap.release()\n",
    "    cv2.destroyAllWindows()"
   ]
  },
  {
   "cell_type": "code",
   "execution_count": null,
   "metadata": {
    "pycharm": {
     "name": "#%%\n"
    }
   },
   "outputs": [
    {
     "ename": "",
     "evalue": "",
     "output_type": "error",
     "traceback": [
      "\u001b[1;31mJupyter cannot be started. Error attempting to locate jupyter: Select an Interpreter to start Jupyter\n",
      "Run the following command to install 'jupyter and notebook' into the Python environment. \n",
      "Command: 'python -m pip install jupyter notebook -U\n",
      "or\n",
      "conda install jupyter notebook -U'\n",
      "Click <a href='https://aka.ms/installJupyterForVSCode'>here</a> for more info."
     ]
    }
   ],
   "source": [
    "cap.release()\n",
    "cv2.destroyAllWindows()"
   ]
  },
  {
   "cell_type": "markdown",
   "metadata": {
    "pycharm": {
     "name": "#%% md\n"
    }
   },
   "source": [
    "# 6. Preprocess Data and Create Labels and Features"
   ]
  },
  {
   "cell_type": "code",
   "execution_count": null,
   "metadata": {
    "pycharm": {
     "is_executing": true,
     "name": "#%%\n"
    }
   },
   "outputs": [
    {
     "ename": "",
     "evalue": "",
     "output_type": "error",
     "traceback": [
      "\u001b[1;31mJupyter cannot be started. Error attempting to locate jupyter: Select an Interpreter to start Jupyter\n",
      "Run the following command to install 'jupyter and notebook' into the Python environment. \n",
      "Command: 'python -m pip install jupyter notebook -U\n",
      "or\n",
      "conda install jupyter notebook -U'\n",
      "Click <a href='https://aka.ms/installJupyterForVSCode'>here</a> for more info."
     ]
    }
   ],
   "source": [
    "from sklearn.model_selection import train_test_split\n",
    "from tensorflow.keras.utils import to_categorical"
   ]
  },
  {
   "cell_type": "code",
   "execution_count": null,
   "metadata": {
    "pycharm": {
     "is_executing": true,
     "name": "#%%\n"
    }
   },
   "outputs": [
    {
     "ename": "",
     "evalue": "",
     "output_type": "error",
     "traceback": [
      "\u001b[1;31mJupyter cannot be started. Error attempting to locate jupyter: Select an Interpreter to start Jupyter\n",
      "Run the following command to install 'jupyter and notebook' into the Python environment. \n",
      "Command: 'python -m pip install jupyter notebook -U\n",
      "or\n",
      "conda install jupyter notebook -U'\n",
      "Click <a href='https://aka.ms/installJupyterForVSCode'>here</a> for more info."
     ]
    }
   ],
   "source": [
    "label_map = {label:num for num, label in enumerate(actions)}\n",
    "label_map"
   ]
  },
  {
   "cell_type": "code",
   "execution_count": null,
   "metadata": {
    "pycharm": {
     "name": "#%%\n"
    }
   },
   "outputs": [
    {
     "ename": "",
     "evalue": "",
     "output_type": "error",
     "traceback": [
      "\u001b[1;31mJupyter cannot be started. Error attempting to locate jupyter: Select an Interpreter to start Jupyter\n",
      "Run the following command to install 'jupyter and notebook' into the Python environment. \n",
      "Command: 'python -m pip install jupyter notebook -U\n",
      "or\n",
      "conda install jupyter notebook -U'\n",
      "Click <a href='https://aka.ms/installJupyterForVSCode'>here</a> for more info."
     ]
    }
   ],
   "source": [
    "TRAINING_PATH = 'Dataset' # location of your training dataset"
   ]
  },
  {
   "cell_type": "code",
   "execution_count": null,
   "metadata": {
    "pycharm": {
     "name": "#%%\n"
    }
   },
   "outputs": [
    {
     "ename": "",
     "evalue": "",
     "output_type": "error",
     "traceback": [
      "\u001b[1;31mJupyter cannot be started. Error attempting to locate jupyter: Select an Interpreter to start Jupyter\n",
      "Run the following command to install 'jupyter and notebook' into the Python environment. \n",
      "Command: 'python -m pip install jupyter notebook -U\n",
      "or\n",
      "conda install jupyter notebook -U'\n",
      "Click <a href='https://aka.ms/installJupyterForVSCode'>here</a> for more info."
     ]
    }
   ],
   "source": [
    "def get_sequences_and_labels(path):\n",
    "    sequences, labels = [], []\n",
    "    for action in actions:\n",
    "        for sequence in np.array(os.listdir(os.path.join(path, action))).astype(int):\n",
    "            window = []\n",
    "            for frame_num in range(sequence_length):\n",
    "                res = np.load(os.path.join(path, action, str(sequence), \"{}.npy\".format(frame_num)))\n",
    "                window.append(res)\n",
    "            sequences.append(window)\n",
    "            labels.append(label_map[action])\n",
    "    return sequences, labels"
   ]
  },
  {
   "cell_type": "code",
   "execution_count": null,
   "metadata": {
    "pycharm": {
     "name": "#%%\n"
    }
   },
   "outputs": [
    {
     "ename": "",
     "evalue": "",
     "output_type": "error",
     "traceback": [
      "\u001b[1;31mJupyter cannot be started. Error attempting to locate jupyter: Select an Interpreter to start Jupyter\n",
      "Run the following command to install 'jupyter and notebook' into the Python environment. \n",
      "Command: 'python -m pip install jupyter notebook -U\n",
      "or\n",
      "conda install jupyter notebook -U'\n",
      "Click <a href='https://aka.ms/installJupyterForVSCode'>here</a> for more info."
     ]
    }
   ],
   "source": [
    "def process_dataset(sequences, labels):\n",
    "    X = np.array(sequences)\n",
    "    y = to_categorical(labels).astype(int)\n",
    "    X_train, X_test, y_train, y_test = train_test_split(X, y, test_size=0.10)\n",
    "   \n",
    "    print('Labels shape: {}' .format(np.array(labels).shape))\n",
    "    print('Shape of X: {}' .format(X.shape))\n",
    "    print('Sequences shape: {}' .format(np.array(sequences).shape))\n",
    "    print('Shape of y_test: {}' .format(y_test.shape))\n",
    "    return X_train, X_test, y_train, y_test"
   ]
  },
  {
   "cell_type": "code",
   "execution_count": null,
   "metadata": {
    "pycharm": {
     "name": "#%%\n"
    }
   },
   "outputs": [
    {
     "ename": "",
     "evalue": "",
     "output_type": "error",
     "traceback": [
      "\u001b[1;31mJupyter cannot be started. Error attempting to locate jupyter: Select an Interpreter to start Jupyter\n",
      "Run the following command to install 'jupyter and notebook' into the Python environment. \n",
      "Command: 'python -m pip install jupyter notebook -U\n",
      "or\n",
      "conda install jupyter notebook -U'\n",
      "Click <a href='https://aka.ms/installJupyterForVSCode'>here</a> for more info."
     ]
    }
   ],
   "source": [
    "sequences, labels = get_sequences_and_labels(TRAINING_PATH)"
   ]
  },
  {
   "cell_type": "code",
   "execution_count": null,
   "metadata": {
    "pycharm": {
     "name": "#%%\n"
    }
   },
   "outputs": [
    {
     "name": "stdout",
     "output_type": "stream",
     "text": [
      "Labels shape: (50,)\n",
      "Shape of X: (50, 30, 258)\n",
      "Sequences shape: (50, 30, 258)\n",
      "Shape of y_test: (5, 5)\n"
     ]
    },
    {
     "ename": "",
     "evalue": "",
     "output_type": "error",
     "traceback": [
      "\u001b[1;31mJupyter cannot be started. Error attempting to locate jupyter: Select an Interpreter to start Jupyter\n",
      "Run the following command to install 'jupyter and notebook' into the Python environment. \n",
      "Command: 'python -m pip install jupyter notebook -U\n",
      "or\n",
      "conda install jupyter notebook -U'\n",
      "Click <a href='https://aka.ms/installJupyterForVSCode'>here</a> for more info."
     ]
    }
   ],
   "source": [
    "X_train, X_test, y_train, y_test = process_dataset(sequences, labels)"
   ]
  },
  {
   "cell_type": "markdown",
   "metadata": {
    "pycharm": {
     "name": "#%% md\n"
    }
   },
   "source": [
    "# 7. Build and Train LSTM Neural Network"
   ]
  },
  {
   "cell_type": "code",
   "execution_count": null,
   "metadata": {
    "pycharm": {
     "name": "#%%\n"
    }
   },
   "outputs": [
    {
     "ename": "",
     "evalue": "",
     "output_type": "error",
     "traceback": [
      "\u001b[1;31mJupyter cannot be started. Error attempting to locate jupyter: Select an Interpreter to start Jupyter\n",
      "Run the following command to install 'jupyter and notebook' into the Python environment. \n",
      "Command: 'python -m pip install jupyter notebook -U\n",
      "or\n",
      "conda install jupyter notebook -U'\n",
      "Click <a href='https://aka.ms/installJupyterForVSCode'>here</a> for more info."
     ]
    }
   ],
   "source": [
    "from tensorflow.keras.models import Sequential\n",
    "from tensorflow.keras.layers import LSTM, Dense\n",
    "from tensorflow.keras.callbacks import TensorBoard, EarlyStopping, ReduceLROnPlateau\n"
   ]
  },
  {
   "cell_type": "code",
   "execution_count": null,
   "metadata": {
    "pycharm": {
     "name": "#%%\n"
    }
   },
   "outputs": [
    {
     "ename": "",
     "evalue": "",
     "output_type": "error",
     "traceback": [
      "\u001b[1;31mJupyter cannot be started. Error attempting to locate jupyter: Select an Interpreter to start Jupyter\n",
      "Run the following command to install 'jupyter and notebook' into the Python environment. \n",
      "Command: 'python -m pip install jupyter notebook -U\n",
      "or\n",
      "conda install jupyter notebook -U'\n",
      "Click <a href='https://aka.ms/installJupyterForVSCode'>here</a> for more info."
     ]
    }
   ],
   "source": [
    "log_dir = os.path.join('Logs')\n",
    "callbacks = [\n",
    "       EarlyStopping(monitor='val_loss', mode='min', patience=30, restore_best_weights=True),\n",
    "       ReduceLROnPlateau(monitor='val_loss', mode='min', patience=5, factor=0.5, min_lr=1e-5)\n",
    "    ]"
   ]
  },
  {
   "cell_type": "code",
   "execution_count": null,
   "metadata": {
    "pycharm": {
     "name": "#%%\n"
    }
   },
   "outputs": [
    {
     "ename": "",
     "evalue": "",
     "output_type": "error",
     "traceback": [
      "\u001b[1;31mJupyter cannot be started. Error attempting to locate jupyter: Select an Interpreter to start Jupyter\n",
      "Run the following command to install 'jupyter and notebook' into the Python environment. \n",
      "Command: 'python -m pip install jupyter notebook -U\n",
      "or\n",
      "conda install jupyter notebook -U'\n",
      "Click <a href='https://aka.ms/installJupyterForVSCode'>here</a> for more info."
     ]
    }
   ],
   "source": [
    "model = Sequential()\n",
    "model.add(LSTM(64, return_sequences=True, activation='relu', input_shape=(sequence_length, 258)))\n",
    "model.add(LSTM(128, return_sequences=True, activation='relu'))\n",
    "model.add(LSTM(64, return_sequences=False, activation='relu'))\n",
    "model.add(Dense(64, activation='relu'))\n",
    "model.add(Dense(32, activation='relu'))\n",
    "model.add(Dense(actions.shape[0], activation='softmax'))"
   ]
  },
  {
   "cell_type": "code",
   "execution_count": null,
   "metadata": {
    "pycharm": {
     "name": "#%%\n"
    }
   },
   "outputs": [
    {
     "ename": "",
     "evalue": "",
     "output_type": "error",
     "traceback": [
      "\u001b[1;31mJupyter cannot be started. Error attempting to locate jupyter: Select an Interpreter to start Jupyter\n",
      "Run the following command to install 'jupyter and notebook' into the Python environment. \n",
      "Command: 'python -m pip install jupyter notebook -U\n",
      "or\n",
      "conda install jupyter notebook -U'\n",
      "Click <a href='https://aka.ms/installJupyterForVSCode'>here</a> for more info."
     ]
    }
   ],
   "source": [
    "model.compile(optimizer='Adam', loss='categorical_crossentropy', metrics=['categorical_accuracy'])"
   ]
  },
  {
   "cell_type": "code",
   "execution_count": null,
   "metadata": {
    "pycharm": {
     "name": "#%%\n"
    }
   },
   "outputs": [
    {
     "name": "stdout",
     "output_type": "stream",
     "text": [
      "Model: \"sequential\"\n",
      "_________________________________________________________________\n",
      " Layer (type)                Output Shape              Param #   \n",
      "=================================================================\n",
      " lstm (LSTM)                 (None, 30, 64)            82688     \n",
      "                                                                 \n",
      " lstm_1 (LSTM)               (None, 30, 128)           98816     \n",
      "                                                                 \n",
      " lstm_2 (LSTM)               (None, 64)                49408     \n",
      "                                                                 \n",
      " dense (Dense)               (None, 64)                4160      \n",
      "                                                                 \n",
      " dense_1 (Dense)             (None, 32)                2080      \n",
      "                                                                 \n",
      " dense_2 (Dense)             (None, 5)                 165       \n",
      "                                                                 \n",
      "=================================================================\n",
      "Total params: 237,317\n",
      "Trainable params: 237,317\n",
      "Non-trainable params: 0\n",
      "_________________________________________________________________\n"
     ]
    },
    {
     "ename": "",
     "evalue": "",
     "output_type": "error",
     "traceback": [
      "\u001b[1;31mJupyter cannot be started. Error attempting to locate jupyter: Select an Interpreter to start Jupyter\n",
      "Run the following command to install 'jupyter and notebook' into the Python environment. \n",
      "Command: 'python -m pip install jupyter notebook -U\n",
      "or\n",
      "conda install jupyter notebook -U'\n",
      "Click <a href='https://aka.ms/installJupyterForVSCode'>here</a> for more info."
     ]
    }
   ],
   "source": [
    "model.summary()"
   ]
  },
  {
   "cell_type": "code",
   "execution_count": null,
   "metadata": {
    "pycharm": {
     "name": "#%%\n"
    },
    "scrolled": true
   },
   "outputs": [
    {
     "name": "stdout",
     "output_type": "stream",
     "text": [
      "Epoch 1/2000\n",
      "2/2 [==============================] - 3s 720ms/step - loss: 1.6105 - categorical_accuracy: 0.2750 - val_loss: 1.6073 - val_categorical_accuracy: 0.0000e+00 - lr: 0.0010\n",
      "Epoch 2/2000\n",
      "2/2 [==============================] - 0s 87ms/step - loss: 1.6004 - categorical_accuracy: 0.3000 - val_loss: 1.6151 - val_categorical_accuracy: 0.0000e+00 - lr: 0.0010\n",
      "Epoch 3/2000\n",
      "2/2 [==============================] - 0s 90ms/step - loss: 1.5794 - categorical_accuracy: 0.3250 - val_loss: 1.6879 - val_categorical_accuracy: 0.0000e+00 - lr: 0.0010\n",
      "Epoch 4/2000\n",
      "2/2 [==============================] - 0s 92ms/step - loss: 1.5405 - categorical_accuracy: 0.3000 - val_loss: 1.6474 - val_categorical_accuracy: 0.0000e+00 - lr: 0.0010\n",
      "Epoch 5/2000\n",
      "2/2 [==============================] - 0s 79ms/step - loss: 1.4489 - categorical_accuracy: 0.4000 - val_loss: 1.9635 - val_categorical_accuracy: 0.0000e+00 - lr: 0.0010\n",
      "Epoch 6/2000\n",
      "2/2 [==============================] - 0s 82ms/step - loss: 1.3447 - categorical_accuracy: 0.4000 - val_loss: 1.4397 - val_categorical_accuracy: 0.4000 - lr: 0.0010\n",
      "Epoch 7/2000\n",
      "2/2 [==============================] - 0s 116ms/step - loss: 1.3044 - categorical_accuracy: 0.4750 - val_loss: 1.2535 - val_categorical_accuracy: 0.4000 - lr: 0.0010\n",
      "Epoch 8/2000\n",
      "2/2 [==============================] - 0s 111ms/step - loss: 1.1319 - categorical_accuracy: 0.5000 - val_loss: 1.4968 - val_categorical_accuracy: 0.2000 - lr: 0.0010\n",
      "Epoch 9/2000\n",
      "2/2 [==============================] - 0s 107ms/step - loss: 0.9846 - categorical_accuracy: 0.5250 - val_loss: 0.9011 - val_categorical_accuracy: 0.8000 - lr: 0.0010\n",
      "Epoch 10/2000\n",
      "2/2 [==============================] - 0s 97ms/step - loss: 1.1248 - categorical_accuracy: 0.5000 - val_loss: 1.9043 - val_categorical_accuracy: 0.2000 - lr: 0.0010\n",
      "Epoch 11/2000\n",
      "2/2 [==============================] - ETA: 0s - loss: 1.0280 - categorical_accuracy: 0.47 - 0s 117ms/step - loss: 1.0280 - categorical_accuracy: 0.4750 - val_loss: 1.2377 - val_categorical_accuracy: 0.6000 - lr: 0.0010\n",
      "Epoch 12/2000\n",
      "2/2 [==============================] - 0s 101ms/step - loss: 0.9923 - categorical_accuracy: 0.6500 - val_loss: 0.8992 - val_categorical_accuracy: 0.8000 - lr: 0.0010\n",
      "Epoch 13/2000\n",
      "2/2 [==============================] - 0s 96ms/step - loss: 1.1056 - categorical_accuracy: 0.4750 - val_loss: 1.1613 - val_categorical_accuracy: 0.6000 - lr: 0.0010\n",
      "Epoch 14/2000\n",
      "2/2 [==============================] - 0s 100ms/step - loss: 1.0628 - categorical_accuracy: 0.5500 - val_loss: 1.4877 - val_categorical_accuracy: 0.6000 - lr: 0.0010\n",
      "Epoch 15/2000\n",
      "2/2 [==============================] - 0s 103ms/step - loss: 1.0005 - categorical_accuracy: 0.6750 - val_loss: 0.8468 - val_categorical_accuracy: 0.4000 - lr: 0.0010\n",
      "Epoch 16/2000\n",
      "2/2 [==============================] - 0s 92ms/step - loss: 0.8496 - categorical_accuracy: 0.5500 - val_loss: 5.5970 - val_categorical_accuracy: 0.0000e+00 - lr: 0.0010\n",
      "Epoch 17/2000\n",
      "2/2 [==============================] - 0s 90ms/step - loss: 1.6624 - categorical_accuracy: 0.4750 - val_loss: 1.0240 - val_categorical_accuracy: 0.6000 - lr: 0.0010\n",
      "Epoch 18/2000\n",
      "2/2 [==============================] - 0s 80ms/step - loss: 0.9072 - categorical_accuracy: 0.7000 - val_loss: 0.9251 - val_categorical_accuracy: 0.8000 - lr: 0.0010\n",
      "Epoch 19/2000\n",
      "2/2 [==============================] - 0s 80ms/step - loss: 1.0365 - categorical_accuracy: 0.6750 - val_loss: 0.9410 - val_categorical_accuracy: 0.8000 - lr: 0.0010\n",
      "Epoch 20/2000\n",
      "2/2 [==============================] - 0s 85ms/step - loss: 1.0864 - categorical_accuracy: 0.6250 - val_loss: 0.9973 - val_categorical_accuracy: 0.8000 - lr: 0.0010\n",
      "Epoch 21/2000\n",
      "2/2 [==============================] - 0s 79ms/step - loss: 1.0647 - categorical_accuracy: 0.6500 - val_loss: 1.0374 - val_categorical_accuracy: 0.8000 - lr: 5.0000e-04\n",
      "Epoch 22/2000\n",
      "2/2 [==============================] - 0s 90ms/step - loss: 1.0335 - categorical_accuracy: 0.6500 - val_loss: 1.0913 - val_categorical_accuracy: 0.6000 - lr: 5.0000e-04\n",
      "Epoch 23/2000\n",
      "2/2 [==============================] - 0s 111ms/step - loss: 0.9900 - categorical_accuracy: 0.6750 - val_loss: 1.1518 - val_categorical_accuracy: 0.6000 - lr: 5.0000e-04\n",
      "Epoch 24/2000\n",
      "2/2 [==============================] - 0s 102ms/step - loss: 0.9412 - categorical_accuracy: 0.6500 - val_loss: 1.2274 - val_categorical_accuracy: 0.6000 - lr: 5.0000e-04\n",
      "Epoch 25/2000\n",
      "2/2 [==============================] - 0s 107ms/step - loss: 0.8835 - categorical_accuracy: 0.6750 - val_loss: 1.3260 - val_categorical_accuracy: 0.6000 - lr: 5.0000e-04\n",
      "Epoch 26/2000\n",
      "2/2 [==============================] - 0s 112ms/step - loss: 0.8039 - categorical_accuracy: 0.7500 - val_loss: 1.3892 - val_categorical_accuracy: 0.6000 - lr: 2.5000e-04\n",
      "Epoch 27/2000\n",
      "2/2 [==============================] - 0s 101ms/step - loss: 0.7516 - categorical_accuracy: 0.7500 - val_loss: 1.4927 - val_categorical_accuracy: 0.6000 - lr: 2.5000e-04\n",
      "Epoch 28/2000\n",
      "2/2 [==============================] - 0s 91ms/step - loss: 0.6959 - categorical_accuracy: 0.7750 - val_loss: 1.6613 - val_categorical_accuracy: 0.6000 - lr: 2.5000e-04\n",
      "Epoch 29/2000\n",
      "2/2 [==============================] - 0s 101ms/step - loss: 0.6849 - categorical_accuracy: 0.7500 - val_loss: 1.9015 - val_categorical_accuracy: 0.6000 - lr: 2.5000e-04\n",
      "Epoch 30/2000\n",
      "2/2 [==============================] - 0s 94ms/step - loss: 0.5929 - categorical_accuracy: 0.7750 - val_loss: 2.0785 - val_categorical_accuracy: 0.6000 - lr: 2.5000e-04\n",
      "Epoch 31/2000\n",
      "2/2 [==============================] - 0s 95ms/step - loss: 0.5612 - categorical_accuracy: 0.7750 - val_loss: 2.1678 - val_categorical_accuracy: 0.6000 - lr: 1.2500e-04\n",
      "Epoch 32/2000\n",
      "2/2 [==============================] - 0s 79ms/step - loss: 0.5248 - categorical_accuracy: 0.8500 - val_loss: 2.3191 - val_categorical_accuracy: 0.6000 - lr: 1.2500e-04\n",
      "Epoch 33/2000\n",
      "2/2 [==============================] - 0s 83ms/step - loss: 0.4879 - categorical_accuracy: 0.8750 - val_loss: 2.5721 - val_categorical_accuracy: 0.6000 - lr: 1.2500e-04\n",
      "Epoch 34/2000\n",
      "2/2 [==============================] - 0s 86ms/step - loss: 0.4517 - categorical_accuracy: 0.8750 - val_loss: 2.8349 - val_categorical_accuracy: 0.6000 - lr: 1.2500e-04\n",
      "Epoch 35/2000\n",
      "2/2 [==============================] - 0s 68ms/step - loss: 0.4120 - categorical_accuracy: 0.8750 - val_loss: 2.8360 - val_categorical_accuracy: 0.8000 - lr: 1.2500e-04\n",
      "Epoch 36/2000\n",
      "2/2 [==============================] - 0s 72ms/step - loss: 0.3551 - categorical_accuracy: 0.8750 - val_loss: 2.8180 - val_categorical_accuracy: 0.8000 - lr: 6.2500e-05\n",
      "Epoch 37/2000\n",
      "2/2 [==============================] - 0s 81ms/step - loss: 0.3290 - categorical_accuracy: 0.8750 - val_loss: 2.9245 - val_categorical_accuracy: 0.8000 - lr: 6.2500e-05\n",
      "Epoch 38/2000\n",
      "2/2 [==============================] - 0s 80ms/step - loss: 0.3051 - categorical_accuracy: 0.8750 - val_loss: 3.2494 - val_categorical_accuracy: 0.8000 - lr: 6.2500e-05\n",
      "Epoch 39/2000\n",
      "2/2 [==============================] - 0s 78ms/step - loss: 0.2688 - categorical_accuracy: 0.8750 - val_loss: 3.7535 - val_categorical_accuracy: 0.6000 - lr: 6.2500e-05\n",
      "Epoch 40/2000\n",
      "2/2 [==============================] - 0s 82ms/step - loss: 0.2344 - categorical_accuracy: 0.9000 - val_loss: 4.3525 - val_categorical_accuracy: 0.6000 - lr: 6.2500e-05\n",
      "Epoch 41/2000\n",
      "2/2 [==============================] - 0s 122ms/step - loss: 0.2029 - categorical_accuracy: 0.9500 - val_loss: 4.5825 - val_categorical_accuracy: 0.6000 - lr: 3.1250e-05\n",
      "Epoch 42/2000\n",
      "2/2 [==============================] - 0s 89ms/step - loss: 0.1896 - categorical_accuracy: 0.9500 - val_loss: 4.7572 - val_categorical_accuracy: 0.6000 - lr: 3.1250e-05\n",
      "Epoch 43/2000\n",
      "2/2 [==============================] - 0s 83ms/step - loss: 0.1785 - categorical_accuracy: 0.9250 - val_loss: 4.9108 - val_categorical_accuracy: 0.6000 - lr: 3.1250e-05\n",
      "Epoch 44/2000\n",
      "2/2 [==============================] - 0s 89ms/step - loss: 0.1717 - categorical_accuracy: 0.9250 - val_loss: 5.0362 - val_categorical_accuracy: 0.8000 - lr: 3.1250e-05\n",
      "Epoch 45/2000\n",
      "2/2 [==============================] - 0s 90ms/step - loss: 0.1649 - categorical_accuracy: 0.9000 - val_loss: 5.2684 - val_categorical_accuracy: 0.8000 - lr: 3.1250e-05\n"
     ]
    },
    {
     "data": {
      "text/plain": [
       "<keras.callbacks.History at 0x1c0c2741820>"
      ]
     },
     "execution_count": 21,
     "metadata": {},
     "output_type": "execute_result"
    },
    {
     "ename": "",
     "evalue": "",
     "output_type": "error",
     "traceback": [
      "\u001b[1;31mJupyter cannot be started. Error attempting to locate jupyter: Select an Interpreter to start Jupyter\n",
      "Run the following command to install 'jupyter and notebook' into the Python environment. \n",
      "Command: 'python -m pip install jupyter notebook -U\n",
      "or\n",
      "conda install jupyter notebook -U'\n",
      "Click <a href='https://aka.ms/installJupyterForVSCode'>here</a> for more info."
     ]
    }
   ],
   "source": [
    "model.fit(X_train, y_train, epochs=2000, validation_split=.1, callbacks=[callbacks])"
   ]
  },
  {
   "cell_type": "markdown",
   "metadata": {
    "pycharm": {
     "name": "#%% md\n"
    }
   },
   "source": [
    "# 9. Save Weights"
   ]
  },
  {
   "cell_type": "code",
   "execution_count": null,
   "metadata": {
    "pycharm": {
     "name": "#%%\n"
    }
   },
   "outputs": [
    {
     "ename": "",
     "evalue": "",
     "output_type": "error",
     "traceback": [
      "\u001b[1;31mJupyter cannot be started. Error attempting to locate jupyter: Select an Interpreter to start Jupyter\n",
      "Run the following command to install 'jupyter and notebook' into the Python environment. \n",
      "Command: 'python -m pip install jupyter notebook -U\n",
      "or\n",
      "conda install jupyter notebook -U'\n",
      "Click <a href='https://aka.ms/installJupyterForVSCode'>here</a> for more info."
     ]
    }
   ],
   "source": [
    "VERSION_NAME = 'version_1.h5'"
   ]
  },
  {
   "cell_type": "code",
   "execution_count": null,
   "metadata": {
    "pycharm": {
     "name": "#%%\n"
    }
   },
   "outputs": [
    {
     "ename": "",
     "evalue": "",
     "output_type": "error",
     "traceback": [
      "\u001b[1;31mJupyter cannot be started. Error attempting to locate jupyter: Select an Interpreter to start Jupyter\n",
      "Run the following command to install 'jupyter and notebook' into the Python environment. \n",
      "Command: 'python -m pip install jupyter notebook -U\n",
      "or\n",
      "conda install jupyter notebook -U'\n",
      "Click <a href='https://aka.ms/installJupyterForVSCode'>here</a> for more info."
     ]
    }
   ],
   "source": [
    "model.save(VERSION_NAME)"
   ]
  },
  {
   "cell_type": "code",
   "execution_count": null,
   "metadata": {
    "pycharm": {
     "name": "#%%\n"
    }
   },
   "outputs": [
    {
     "ename": "",
     "evalue": "",
     "output_type": "error",
     "traceback": [
      "\u001b[1;31mJupyter cannot be started. Error attempting to locate jupyter: Select an Interpreter to start Jupyter\n",
      "Run the following command to install 'jupyter and notebook' into the Python environment. \n",
      "Command: 'python -m pip install jupyter notebook -U\n",
      "or\n",
      "conda install jupyter notebook -U'\n",
      "Click <a href='https://aka.ms/installJupyterForVSCode'>here</a> for more info."
     ]
    }
   ],
   "source": [
    "model.load_weights(VERSION_NAME)"
   ]
  },
  {
   "cell_type": "markdown",
   "metadata": {
    "pycharm": {
     "name": "#%% md\n"
    }
   },
   "source": [
    "# 10. Fine tuning"
   ]
  },
  {
   "cell_type": "code",
   "execution_count": null,
   "metadata": {
    "pycharm": {
     "name": "#%%\n"
    }
   },
   "outputs": [
    {
     "ename": "",
     "evalue": "",
     "output_type": "error",
     "traceback": [
      "\u001b[1;31mJupyter cannot be started. Error attempting to locate jupyter: Select an Interpreter to start Jupyter\n",
      "Run the following command to install 'jupyter and notebook' into the Python environment. \n",
      "Command: 'python -m pip install jupyter notebook -U\n",
      "or\n",
      "conda install jupyter notebook -U'\n",
      "Click <a href='https://aka.ms/installJupyterForVSCode'>here</a> for more info."
     ]
    }
   ],
   "source": [
    "FINE_TUNING_PATH = 'Fine Tuning'"
   ]
  },
  {
   "cell_type": "code",
   "execution_count": null,
   "metadata": {
    "pycharm": {
     "name": "#%%\n"
    }
   },
   "outputs": [
    {
     "ename": "NameError",
     "evalue": "name 'get_sequences_and_labels' is not defined",
     "output_type": "error",
     "traceback": [
      "\u001b[0;31m---------------------------------------------------------------------------\u001b[0m",
      "\u001b[0;31mNameError\u001b[0m                                 Traceback (most recent call last)",
      "Input \u001b[0;32mIn [10]\u001b[0m, in \u001b[0;36m<cell line: 1>\u001b[0;34m()\u001b[0m\n\u001b[0;32m----> 1\u001b[0m sequences, labels \u001b[38;5;241m=\u001b[39m \u001b[43mget_sequences_and_labels\u001b[49m(FINE_TUNING_PATH)\n",
      "\u001b[0;31mNameError\u001b[0m: name 'get_sequences_and_labels' is not defined"
     ]
    },
    {
     "ename": "",
     "evalue": "",
     "output_type": "error",
     "traceback": [
      "\u001b[1;31mJupyter cannot be started. Error attempting to locate jupyter: Select an Interpreter to start Jupyter\n",
      "Run the following command to install 'jupyter and notebook' into the Python environment. \n",
      "Command: 'python -m pip install jupyter notebook -U\n",
      "or\n",
      "conda install jupyter notebook -U'\n",
      "Click <a href='https://aka.ms/installJupyterForVSCode'>here</a> for more info."
     ]
    }
   ],
   "source": [
    "sequences, labels = get_sequences_and_labels(FINE_TUNING_PATH)"
   ]
  },
  {
   "cell_type": "code",
   "execution_count": null,
   "metadata": {
    "pycharm": {
     "name": "#%%\n"
    }
   },
   "outputs": [
    {
     "name": "stdout",
     "output_type": "stream",
     "text": [
      "Labels shape: (50,)\n",
      "Shape of X: (50, 30, 258)\n",
      "Sequences shape: (50, 30, 258)\n",
      "Shape of y_test: (5, 5)\n"
     ]
    },
    {
     "ename": "",
     "evalue": "",
     "output_type": "error",
     "traceback": [
      "\u001b[1;31mJupyter cannot be started. Error attempting to locate jupyter: Select an Interpreter to start Jupyter\n",
      "Run the following command to install 'jupyter and notebook' into the Python environment. \n",
      "Command: 'python -m pip install jupyter notebook -U\n",
      "or\n",
      "conda install jupyter notebook -U'\n",
      "Click <a href='https://aka.ms/installJupyterForVSCode'>here</a> for more info."
     ]
    }
   ],
   "source": [
    "X_train, X_test, y_train, y_test = process_dataset(sequences, labels)"
   ]
  },
  {
   "cell_type": "code",
   "execution_count": null,
   "metadata": {
    "pycharm": {
     "name": "#%%\n"
    }
   },
   "outputs": [
    {
     "ename": "",
     "evalue": "",
     "output_type": "error",
     "traceback": [
      "\u001b[1;31mJupyter cannot be started. Error attempting to locate jupyter: Select an Interpreter to start Jupyter\n",
      "Run the following command to install 'jupyter and notebook' into the Python environment. \n",
      "Command: 'python -m pip install jupyter notebook -U\n",
      "or\n",
      "conda install jupyter notebook -U'\n",
      "Click <a href='https://aka.ms/installJupyterForVSCode'>here</a> for more info."
     ]
    }
   ],
   "source": [
    "# redefine the model\n",
    "model = Sequential()\n",
    "model.add(LSTM(64, return_sequences=True, activation='relu', input_shape=(sequence_length, 258)))\n",
    "model.add(LSTM(128, return_sequences=True, activation='relu'))\n",
    "model.add(LSTM(64, return_sequences=False, activation='relu'))\n",
    "model.add(Dense(64, activation='relu'))\n",
    "model.add(Dense(32, activation='relu'))\n",
    "model.add(Dense(actions.shape[0], activation='softmax'))\n",
    "\n",
    "model.compile(optimizer='Adam', loss='categorical_crossentropy', metrics=['categorical_accuracy'])"
   ]
  },
  {
   "cell_type": "code",
   "execution_count": null,
   "metadata": {
    "pycharm": {
     "name": "#%%\n"
    }
   },
   "outputs": [
    {
     "ename": "",
     "evalue": "",
     "output_type": "error",
     "traceback": [
      "\u001b[1;31mJupyter cannot be started. Error attempting to locate jupyter: Select an Interpreter to start Jupyter\n",
      "Run the following command to install 'jupyter and notebook' into the Python environment. \n",
      "Command: 'python -m pip install jupyter notebook -U\n",
      "or\n",
      "conda install jupyter notebook -U'\n",
      "Click <a href='https://aka.ms/installJupyterForVSCode'>here</a> for more info."
     ]
    }
   ],
   "source": [
    "model.load_weights(VERSION_NAME) # restore the previously trained model"
   ]
  },
  {
   "cell_type": "code",
   "execution_count": null,
   "metadata": {
    "pycharm": {
     "name": "#%%\n"
    }
   },
   "outputs": [
    {
     "name": "stdout",
     "output_type": "stream",
     "text": [
      "Epoch 1/2000\n",
      "2/2 [==============================] - 4s 633ms/step - loss: 16.9003 - categorical_accuracy: 0.2500 - val_loss: 1.5714 - val_categorical_accuracy: 0.4000 - lr: 0.0010\n",
      "Epoch 2/2000\n",
      "2/2 [==============================] - 0s 80ms/step - loss: 1.4810 - categorical_accuracy: 0.2500 - val_loss: 1.5341 - val_categorical_accuracy: 0.2000 - lr: 0.0010\n",
      "Epoch 3/2000\n",
      "2/2 [==============================] - 0s 99ms/step - loss: 1.4563 - categorical_accuracy: 0.2500 - val_loss: 1.4332 - val_categorical_accuracy: 0.4000 - lr: 0.0010\n",
      "Epoch 4/2000\n",
      "2/2 [==============================] - 0s 96ms/step - loss: 1.4607 - categorical_accuracy: 0.3000 - val_loss: 1.3291 - val_categorical_accuracy: 0.2000 - lr: 0.0010\n",
      "Epoch 5/2000\n",
      "2/2 [==============================] - 0s 97ms/step - loss: 1.3560 - categorical_accuracy: 0.3500 - val_loss: 1.1958 - val_categorical_accuracy: 0.4000 - lr: 0.0010\n",
      "Epoch 6/2000\n",
      "2/2 [==============================] - 0s 138ms/step - loss: 1.2924 - categorical_accuracy: 0.4250 - val_loss: 0.9277 - val_categorical_accuracy: 0.6000 - lr: 0.0010\n",
      "Epoch 7/2000\n",
      "2/2 [==============================] - 0s 131ms/step - loss: 1.3643 - categorical_accuracy: 0.4750 - val_loss: 1.0356 - val_categorical_accuracy: 0.4000 - lr: 0.0010\n",
      "Epoch 8/2000\n",
      "2/2 [==============================] - 0s 127ms/step - loss: 1.3529 - categorical_accuracy: 0.5000 - val_loss: 0.9377 - val_categorical_accuracy: 0.6000 - lr: 0.0010\n",
      "Epoch 9/2000\n",
      "2/2 [==============================] - 0s 133ms/step - loss: 1.0408 - categorical_accuracy: 0.5500 - val_loss: 2.4249 - val_categorical_accuracy: 0.6000 - lr: 0.0010\n",
      "Epoch 10/2000\n",
      "2/2 [==============================] - 0s 114ms/step - loss: 1.0537 - categorical_accuracy: 0.5750 - val_loss: 2.2255 - val_categorical_accuracy: 0.6000 - lr: 0.0010\n",
      "Epoch 11/2000\n",
      "2/2 [==============================] - 0s 123ms/step - loss: 0.9319 - categorical_accuracy: 0.5500 - val_loss: 3.2126 - val_categorical_accuracy: 0.6000 - lr: 0.0010\n",
      "Epoch 12/2000\n",
      "2/2 [==============================] - 0s 210ms/step - loss: 1.2081 - categorical_accuracy: 0.5500 - val_loss: 1.0856 - val_categorical_accuracy: 0.4000 - lr: 5.0000e-04\n",
      "Epoch 13/2000\n",
      "2/2 [==============================] - 0s 115ms/step - loss: 0.7973 - categorical_accuracy: 0.6750 - val_loss: 0.6106 - val_categorical_accuracy: 0.6000 - lr: 5.0000e-04\n",
      "Epoch 14/2000\n",
      "2/2 [==============================] - 0s 100ms/step - loss: 0.9011 - categorical_accuracy: 0.6500 - val_loss: 0.4965 - val_categorical_accuracy: 0.8000 - lr: 5.0000e-04\n",
      "Epoch 15/2000\n",
      "2/2 [==============================] - 0s 104ms/step - loss: 0.8676 - categorical_accuracy: 0.7750 - val_loss: 0.6415 - val_categorical_accuracy: 0.8000 - lr: 5.0000e-04\n",
      "Epoch 16/2000\n",
      "2/2 [==============================] - 0s 83ms/step - loss: 0.9031 - categorical_accuracy: 0.6250 - val_loss: 0.5598 - val_categorical_accuracy: 0.8000 - lr: 5.0000e-04\n",
      "Epoch 17/2000\n",
      "2/2 [==============================] - 0s 108ms/step - loss: 0.7086 - categorical_accuracy: 0.7250 - val_loss: 0.5078 - val_categorical_accuracy: 0.8000 - lr: 5.0000e-04\n",
      "Epoch 18/2000\n",
      "2/2 [==============================] - 0s 101ms/step - loss: 0.6746 - categorical_accuracy: 0.7250 - val_loss: 1.7915 - val_categorical_accuracy: 0.6000 - lr: 5.0000e-04\n",
      "Epoch 19/2000\n",
      "2/2 [==============================] - 0s 106ms/step - loss: 0.5907 - categorical_accuracy: 0.8000 - val_loss: 2.3494 - val_categorical_accuracy: 0.6000 - lr: 5.0000e-04\n",
      "Epoch 20/2000\n",
      "2/2 [==============================] - 0s 100ms/step - loss: 0.6326 - categorical_accuracy: 0.7750 - val_loss: 2.5681 - val_categorical_accuracy: 0.4000 - lr: 2.5000e-04\n",
      "Epoch 21/2000\n",
      "2/2 [==============================] - 0s 117ms/step - loss: 0.5497 - categorical_accuracy: 0.8250 - val_loss: 2.3442 - val_categorical_accuracy: 0.6000 - lr: 2.5000e-04\n",
      "Epoch 22/2000\n",
      "2/2 [==============================] - 0s 106ms/step - loss: 0.6521 - categorical_accuracy: 0.7500 - val_loss: 2.8797 - val_categorical_accuracy: 0.6000 - lr: 2.5000e-04\n",
      "Epoch 23/2000\n",
      "2/2 [==============================] - 0s 109ms/step - loss: 0.5639 - categorical_accuracy: 0.7750 - val_loss: 3.9241 - val_categorical_accuracy: 0.6000 - lr: 2.5000e-04\n",
      "Epoch 24/2000\n",
      "2/2 [==============================] - 0s 103ms/step - loss: 0.4736 - categorical_accuracy: 0.7750 - val_loss: 4.7194 - val_categorical_accuracy: 0.6000 - lr: 2.5000e-04\n",
      "Epoch 25/2000\n",
      "2/2 [==============================] - 0s 108ms/step - loss: 0.5163 - categorical_accuracy: 0.7250 - val_loss: 3.8471 - val_categorical_accuracy: 0.6000 - lr: 1.2500e-04\n",
      "Epoch 26/2000\n",
      "2/2 [==============================] - 0s 100ms/step - loss: 0.5151 - categorical_accuracy: 0.7500 - val_loss: 3.5337 - val_categorical_accuracy: 0.6000 - lr: 1.2500e-04\n",
      "Epoch 27/2000\n",
      "2/2 [==============================] - 0s 106ms/step - loss: 0.4489 - categorical_accuracy: 0.8000 - val_loss: 3.4390 - val_categorical_accuracy: 0.6000 - lr: 1.2500e-04\n",
      "Epoch 28/2000\n",
      "2/2 [==============================] - 0s 107ms/step - loss: 0.4131 - categorical_accuracy: 0.8250 - val_loss: 3.2845 - val_categorical_accuracy: 0.6000 - lr: 1.2500e-04\n",
      "Epoch 29/2000\n",
      "2/2 [==============================] - 0s 93ms/step - loss: 0.4082 - categorical_accuracy: 0.8500 - val_loss: 3.1412 - val_categorical_accuracy: 0.6000 - lr: 1.2500e-04\n",
      "Epoch 30/2000\n",
      "2/2 [==============================] - 0s 99ms/step - loss: 0.4227 - categorical_accuracy: 0.8500 - val_loss: 3.1506 - val_categorical_accuracy: 0.6000 - lr: 6.2500e-05\n",
      "Epoch 31/2000\n",
      "2/2 [==============================] - 0s 103ms/step - loss: 0.4224 - categorical_accuracy: 0.8500 - val_loss: 3.3045 - val_categorical_accuracy: 0.6000 - lr: 6.2500e-05\n",
      "Epoch 32/2000\n",
      "2/2 [==============================] - 0s 103ms/step - loss: 0.4060 - categorical_accuracy: 0.8500 - val_loss: 3.6040 - val_categorical_accuracy: 0.6000 - lr: 6.2500e-05\n",
      "Epoch 33/2000\n",
      "2/2 [==============================] - 0s 131ms/step - loss: 0.3865 - categorical_accuracy: 0.8750 - val_loss: 3.8822 - val_categorical_accuracy: 0.6000 - lr: 6.2500e-05\n",
      "Epoch 34/2000\n",
      "2/2 [==============================] - 0s 126ms/step - loss: 0.3690 - categorical_accuracy: 0.9000 - val_loss: 4.1108 - val_categorical_accuracy: 0.6000 - lr: 6.2500e-05\n",
      "Epoch 35/2000\n",
      "2/2 [==============================] - 0s 126ms/step - loss: 0.3612 - categorical_accuracy: 0.9250 - val_loss: 4.2014 - val_categorical_accuracy: 0.6000 - lr: 3.1250e-05\n",
      "Epoch 36/2000\n",
      "2/2 [==============================] - 0s 104ms/step - loss: 0.3587 - categorical_accuracy: 0.9250 - val_loss: 4.3006 - val_categorical_accuracy: 0.6000 - lr: 3.1250e-05\n",
      "Epoch 37/2000\n",
      "2/2 [==============================] - 0s 112ms/step - loss: 0.3567 - categorical_accuracy: 0.9250 - val_loss: 4.4167 - val_categorical_accuracy: 0.6000 - lr: 3.1250e-05\n",
      "Epoch 38/2000\n",
      "2/2 [==============================] - 0s 106ms/step - loss: 0.3543 - categorical_accuracy: 0.9250 - val_loss: 4.5477 - val_categorical_accuracy: 0.6000 - lr: 3.1250e-05\n",
      "Epoch 39/2000\n",
      "2/2 [==============================] - 0s 108ms/step - loss: 0.3516 - categorical_accuracy: 0.9250 - val_loss: 4.7035 - val_categorical_accuracy: 0.6000 - lr: 3.1250e-05\n",
      "Epoch 40/2000\n",
      "2/2 [==============================] - 0s 114ms/step - loss: 0.3490 - categorical_accuracy: 0.9250 - val_loss: 4.7882 - val_categorical_accuracy: 0.6000 - lr: 1.5625e-05\n",
      "Epoch 41/2000\n",
      "2/2 [==============================] - 0s 109ms/step - loss: 0.3472 - categorical_accuracy: 0.9250 - val_loss: 4.8732 - val_categorical_accuracy: 0.6000 - lr: 1.5625e-05\n",
      "Epoch 42/2000\n",
      "2/2 [==============================] - 0s 120ms/step - loss: 0.3452 - categorical_accuracy: 0.9250 - val_loss: 4.9557 - val_categorical_accuracy: 0.6000 - lr: 1.5625e-05\n",
      "Epoch 43/2000\n",
      "2/2 [==============================] - 0s 112ms/step - loss: 0.3427 - categorical_accuracy: 0.9250 - val_loss: 5.0128 - val_categorical_accuracy: 0.6000 - lr: 1.5625e-05\n",
      "Epoch 44/2000\n",
      "2/2 [==============================] - 0s 83ms/step - loss: 0.3402 - categorical_accuracy: 0.9000 - val_loss: 5.0419 - val_categorical_accuracy: 0.6000 - lr: 1.5625e-05\n"
     ]
    },
    {
     "data": {
      "text/plain": [
       "<keras.callbacks.History at 0x1c0ca34cd30>"
      ]
     },
     "execution_count": 30,
     "metadata": {},
     "output_type": "execute_result"
    },
    {
     "ename": "",
     "evalue": "",
     "output_type": "error",
     "traceback": [
      "\u001b[1;31mJupyter cannot be started. Error attempting to locate jupyter: Select an Interpreter to start Jupyter\n",
      "Run the following command to install 'jupyter and notebook' into the Python environment. \n",
      "Command: 'python -m pip install jupyter notebook -U\n",
      "or\n",
      "conda install jupyter notebook -U'\n",
      "Click <a href='https://aka.ms/installJupyterForVSCode'>here</a> for more info."
     ]
    }
   ],
   "source": [
    "model.fit(X_train, y_train, epochs=2000, validation_split=.1, callbacks=[callbacks])"
   ]
  },
  {
   "cell_type": "code",
   "execution_count": null,
   "metadata": {
    "pycharm": {
     "name": "#%%\n"
    }
   },
   "outputs": [
    {
     "ename": "",
     "evalue": "",
     "output_type": "error",
     "traceback": [
      "\u001b[1;31mJupyter cannot be started. Error attempting to locate jupyter: Select an Interpreter to start Jupyter\n",
      "Run the following command to install 'jupyter and notebook' into the Python environment. \n",
      "Command: 'python -m pip install jupyter notebook -U\n",
      "or\n",
      "conda install jupyter notebook -U'\n",
      "Click <a href='https://aka.ms/installJupyterForVSCode'>here</a> for more info."
     ]
    }
   ],
   "source": [
    "VERSION_NAME = 'fine_tuning.h5'"
   ]
  },
  {
   "cell_type": "code",
   "execution_count": null,
   "metadata": {
    "pycharm": {
     "name": "#%%\n"
    }
   },
   "outputs": [
    {
     "ename": "NameError",
     "evalue": "name 'model' is not defined",
     "output_type": "error",
     "traceback": [
      "\u001b[0;31m---------------------------------------------------------------------------\u001b[0m",
      "\u001b[0;31mNameError\u001b[0m                                 Traceback (most recent call last)",
      "Input \u001b[0;32mIn [8]\u001b[0m, in \u001b[0;36m<cell line: 1>\u001b[0;34m()\u001b[0m\n\u001b[0;32m----> 1\u001b[0m \u001b[43mmodel\u001b[49m\u001b[38;5;241m.\u001b[39msave_weights(VERSION_NAME)\n\u001b[1;32m      2\u001b[0m model\u001b[38;5;241m.\u001b[39mload_weights(VERSION_NAME)\n",
      "\u001b[0;31mNameError\u001b[0m: name 'model' is not defined"
     ]
    },
    {
     "ename": "",
     "evalue": "",
     "output_type": "error",
     "traceback": [
      "\u001b[1;31mJupyter cannot be started. Error attempting to locate jupyter: Select an Interpreter to start Jupyter\n",
      "Run the following command to install 'jupyter and notebook' into the Python environment. \n",
      "Command: 'python -m pip install jupyter notebook -U\n",
      "or\n",
      "conda install jupyter notebook -U'\n",
      "Click <a href='https://aka.ms/installJupyterForVSCode'>here</a> for more info."
     ]
    }
   ],
   "source": [
    "model.save_weights(VERSION_NAME)\n",
    "model.load_weights(VERSION_NAME)"
   ]
  },
  {
   "cell_type": "markdown",
   "metadata": {
    "pycharm": {
     "name": "#%% md\n"
    }
   },
   "source": [
    "# 11. Final Test"
   ]
  },
  {
   "cell_type": "code",
   "execution_count": null,
   "metadata": {
    "pycharm": {
     "name": "#%%\n"
    }
   },
   "outputs": [
    {
     "ename": "",
     "evalue": "",
     "output_type": "error",
     "traceback": [
      "\u001b[1;31mJupyter cannot be started. Error attempting to locate jupyter: Select an Interpreter to start Jupyter\n",
      "Run the following command to install 'jupyter and notebook' into the Python environment. \n",
      "Command: 'python -m pip install jupyter notebook -U\n",
      "or\n",
      "conda install jupyter notebook -U'\n",
      "Click <a href='https://aka.ms/installJupyterForVSCode'>here</a> for more info."
     ]
    }
   ],
   "source": [
    "res = model.predict(X_test)"
   ]
  },
  {
   "cell_type": "code",
   "execution_count": null,
   "metadata": {
    "pycharm": {
     "name": "#%%\n"
    }
   },
   "outputs": [
    {
     "ename": "",
     "evalue": "",
     "output_type": "error",
     "traceback": [
      "\u001b[1;31mJupyter cannot be started. Error attempting to locate jupyter: Select an Interpreter to start Jupyter\n",
      "Run the following command to install 'jupyter and notebook' into the Python environment. \n",
      "Command: 'python -m pip install jupyter notebook -U\n",
      "or\n",
      "conda install jupyter notebook -U'\n",
      "Click <a href='https://aka.ms/installJupyterForVSCode'>here</a> for more info."
     ]
    }
   ],
   "source": [
    "from scipy import stats"
   ]
  },
  {
   "cell_type": "code",
   "execution_count": null,
   "metadata": {
    "pycharm": {
     "name": "#%%\n"
    }
   },
   "outputs": [
    {
     "ename": "",
     "evalue": "",
     "output_type": "error",
     "traceback": [
      "\u001b[1;31mJupyter cannot be started. Error attempting to locate jupyter: Select an Interpreter to start Jupyter\n",
      "Run the following command to install 'jupyter and notebook' into the Python environment. \n",
      "Command: 'python -m pip install jupyter notebook -U\n",
      "or\n",
      "conda install jupyter notebook -U'\n",
      "Click <a href='https://aka.ms/installJupyterForVSCode'>here</a> for more info."
     ]
    }
   ],
   "source": [
    "colors = [(245,117,16), (117,245,16), (16,117,245), (230,200,100)]\n",
    "def prob_viz(res, actions, input_frame, colors):\n",
    "    output_frame = input_frame.copy()\n",
    "    for num, prob in enumerate(res):\n",
    "        cv2.rectangle(output_frame, (0,60+num*40), (int(prob*100), 90+num*40), colors[num], -1)\n",
    "        cv2.putText(output_frame, actions[num], (0, 85+num*40), cv2.FONT_HERSHEY_SIMPLEX, 1, (255,255,255), 2, cv2.LINE_AA)\n",
    "        \n",
    "    return output_frame"
   ]
  },
  {
   "cell_type": "code",
   "execution_count": null,
   "metadata": {
    "collapsed": true,
    "pycharm": {
     "name": "#%%\n"
    }
   },
   "outputs": [
    {
     "ename": "NameError",
     "evalue": "name 'image' is not defined",
     "output_type": "error",
     "traceback": [
      "\u001b[1;31m---------------------------------------------------------------------------\u001b[0m",
      "\u001b[1;31mNameError\u001b[0m                                 Traceback (most recent call last)",
      "\u001b[1;32mc:\\Users\\Paolo\\OneDrive - Politecnico di Milano\\Desktop\\Corsi\\Correnti\\CPAC\\REPOs\\Pose estimation\\Dataset and Training.ipynb Cell 46'\u001b[0m in \u001b[0;36m<module>\u001b[1;34m\u001b[0m\n\u001b[0;32m      <a href='vscode-notebook-cell:/c%3A/Users/Paolo/OneDrive%20-%20Politecnico%20di%20Milano/Desktop/Corsi/Correnti/CPAC/REPOs/Pose%20estimation/Dataset%20and%20Training.ipynb#ch0000058?line=0'>1</a>\u001b[0m plt\u001b[39m.\u001b[39mfigure(figsize\u001b[39m=\u001b[39m(\u001b[39m18\u001b[39m,\u001b[39m18\u001b[39m))\n\u001b[1;32m----> <a href='vscode-notebook-cell:/c%3A/Users/Paolo/OneDrive%20-%20Politecnico%20di%20Milano/Desktop/Corsi/Correnti/CPAC/REPOs/Pose%20estimation/Dataset%20and%20Training.ipynb#ch0000058?line=1'>2</a>\u001b[0m plt\u001b[39m.\u001b[39mimshow(prob_viz(res, actions, image, colors))\n",
      "\u001b[1;31mNameError\u001b[0m: name 'image' is not defined"
     ]
    },
    {
     "data": {
      "text/plain": [
       "<Figure size 1296x1296 with 0 Axes>"
      ]
     },
     "metadata": {},
     "output_type": "display_data"
    },
    {
     "ename": "",
     "evalue": "",
     "output_type": "error",
     "traceback": [
      "\u001b[1;31mJupyter cannot be started. Error attempting to locate jupyter: Select an Interpreter to start Jupyter\n",
      "Run the following command to install 'jupyter and notebook' into the Python environment. \n",
      "Command: 'python -m pip install jupyter notebook -U\n",
      "or\n",
      "conda install jupyter notebook -U'\n",
      "Click <a href='https://aka.ms/installJupyterForVSCode'>here</a> for more info."
     ]
    }
   ],
   "source": [
    "plt.figure(figsize=(18,18))\n",
    "plt.imshow(prob_viz(res, actions, image, colors))"
   ]
  },
  {
   "cell_type": "code",
   "execution_count": null,
   "metadata": {
    "pycharm": {
     "name": "#%%\n"
    }
   },
   "outputs": [
    {
     "name": "stdout",
     "output_type": "stream",
     "text": [
      "<class 'mediapipe.python.solution_base.SolutionOutputs'>\n",
      "<class 'mediapipe.python.solution_base.SolutionOutputs'>\n",
      "<class 'mediapipe.python.solution_base.SolutionOutputs'>\n",
      "<class 'mediapipe.python.solution_base.SolutionOutputs'>\n",
      "<class 'mediapipe.python.solution_base.SolutionOutputs'>\n",
      "<class 'mediapipe.python.solution_base.SolutionOutputs'>\n",
      "<class 'mediapipe.python.solution_base.SolutionOutputs'>\n",
      "<class 'mediapipe.python.solution_base.SolutionOutputs'>\n",
      "<class 'mediapipe.python.solution_base.SolutionOutputs'>\n",
      "<class 'mediapipe.python.solution_base.SolutionOutputs'>\n",
      "<class 'mediapipe.python.solution_base.SolutionOutputs'>\n",
      "<class 'mediapipe.python.solution_base.SolutionOutputs'>\n",
      "<class 'mediapipe.python.solution_base.SolutionOutputs'>\n",
      "<class 'mediapipe.python.solution_base.SolutionOutputs'>\n",
      "<class 'mediapipe.python.solution_base.SolutionOutputs'>\n",
      "<class 'mediapipe.python.solution_base.SolutionOutputs'>\n",
      "<class 'mediapipe.python.solution_base.SolutionOutputs'>\n",
      "<class 'mediapipe.python.solution_base.SolutionOutputs'>\n",
      "<class 'mediapipe.python.solution_base.SolutionOutputs'>\n",
      "<class 'mediapipe.python.solution_base.SolutionOutputs'>\n",
      "<class 'mediapipe.python.solution_base.SolutionOutputs'>\n",
      "<class 'mediapipe.python.solution_base.SolutionOutputs'>\n",
      "<class 'mediapipe.python.solution_base.SolutionOutputs'>\n",
      "<class 'mediapipe.python.solution_base.SolutionOutputs'>\n",
      "<class 'mediapipe.python.solution_base.SolutionOutputs'>\n",
      "<class 'mediapipe.python.solution_base.SolutionOutputs'>\n",
      "<class 'mediapipe.python.solution_base.SolutionOutputs'>\n",
      "<class 'mediapipe.python.solution_base.SolutionOutputs'>\n",
      "<class 'mediapipe.python.solution_base.SolutionOutputs'>\n",
      "<class 'mediapipe.python.solution_base.SolutionOutputs'>\n",
      "saxophone\n"
     ]
    },
    {
     "ename": "IndexError",
     "evalue": "list index out of range",
     "output_type": "error",
     "traceback": [
      "\u001b[1;31m---------------------------------------------------------------------------\u001b[0m",
      "\u001b[1;31mIndexError\u001b[0m                                Traceback (most recent call last)",
      "\u001b[1;32mc:\\Users\\Paolo\\OneDrive - Politecnico di Milano\\Desktop\\Corsi\\Correnti\\CPAC\\REPOs\\Pose estimation\\Dataset and Training.ipynb Cell 47'\u001b[0m in \u001b[0;36m<module>\u001b[1;34m\u001b[0m\n\u001b[0;32m     <a href='vscode-notebook-cell:/c%3A/Users/Paolo/OneDrive%20-%20Politecnico%20di%20Milano/Desktop/Corsi/Correnti/CPAC/REPOs/Pose%20estimation/Dataset%20and%20Training.ipynb#ch0000051?line=43'>44</a>\u001b[0m         sentence \u001b[39m=\u001b[39m sentence[\u001b[39m-\u001b[39m\u001b[39m5\u001b[39m:]\n\u001b[0;32m     <a href='vscode-notebook-cell:/c%3A/Users/Paolo/OneDrive%20-%20Politecnico%20di%20Milano/Desktop/Corsi/Correnti/CPAC/REPOs/Pose%20estimation/Dataset%20and%20Training.ipynb#ch0000051?line=45'>46</a>\u001b[0m     \u001b[39m# Viz probabilities\u001b[39;00m\n\u001b[1;32m---> <a href='vscode-notebook-cell:/c%3A/Users/Paolo/OneDrive%20-%20Politecnico%20di%20Milano/Desktop/Corsi/Correnti/CPAC/REPOs/Pose%20estimation/Dataset%20and%20Training.ipynb#ch0000051?line=46'>47</a>\u001b[0m     image \u001b[39m=\u001b[39m prob_viz(res, actions, image, colors)\n\u001b[0;32m     <a href='vscode-notebook-cell:/c%3A/Users/Paolo/OneDrive%20-%20Politecnico%20di%20Milano/Desktop/Corsi/Correnti/CPAC/REPOs/Pose%20estimation/Dataset%20and%20Training.ipynb#ch0000051?line=48'>49</a>\u001b[0m cv2\u001b[39m.\u001b[39mrectangle(image, (\u001b[39m0\u001b[39m,\u001b[39m0\u001b[39m), (\u001b[39m640\u001b[39m, \u001b[39m40\u001b[39m), (\u001b[39m245\u001b[39m, \u001b[39m117\u001b[39m, \u001b[39m16\u001b[39m), \u001b[39m-\u001b[39m\u001b[39m1\u001b[39m)\n\u001b[0;32m     <a href='vscode-notebook-cell:/c%3A/Users/Paolo/OneDrive%20-%20Politecnico%20di%20Milano/Desktop/Corsi/Correnti/CPAC/REPOs/Pose%20estimation/Dataset%20and%20Training.ipynb#ch0000051?line=49'>50</a>\u001b[0m cv2\u001b[39m.\u001b[39mputText(image, \u001b[39m'\u001b[39m\u001b[39m \u001b[39m\u001b[39m'\u001b[39m\u001b[39m.\u001b[39mjoin(sentence), (\u001b[39m3\u001b[39m,\u001b[39m30\u001b[39m), \n\u001b[0;32m     <a href='vscode-notebook-cell:/c%3A/Users/Paolo/OneDrive%20-%20Politecnico%20di%20Milano/Desktop/Corsi/Correnti/CPAC/REPOs/Pose%20estimation/Dataset%20and%20Training.ipynb#ch0000051?line=50'>51</a>\u001b[0m                cv2\u001b[39m.\u001b[39mFONT_HERSHEY_SIMPLEX, \u001b[39m1\u001b[39m, (\u001b[39m255\u001b[39m, \u001b[39m255\u001b[39m, \u001b[39m255\u001b[39m), \u001b[39m2\u001b[39m, cv2\u001b[39m.\u001b[39mLINE_AA)\n",
      "\u001b[1;32mc:\\Users\\Paolo\\OneDrive - Politecnico di Milano\\Desktop\\Corsi\\Correnti\\CPAC\\REPOs\\Pose estimation\\Dataset and Training.ipynb Cell 45'\u001b[0m in \u001b[0;36mprob_viz\u001b[1;34m(res, actions, input_frame, colors)\u001b[0m\n\u001b[0;32m      <a href='vscode-notebook-cell:/c%3A/Users/Paolo/OneDrive%20-%20Politecnico%20di%20Milano/Desktop/Corsi/Correnti/CPAC/REPOs/Pose%20estimation/Dataset%20and%20Training.ipynb#ch0000057?line=2'>3</a>\u001b[0m output_frame \u001b[39m=\u001b[39m input_frame\u001b[39m.\u001b[39mcopy()\n\u001b[0;32m      <a href='vscode-notebook-cell:/c%3A/Users/Paolo/OneDrive%20-%20Politecnico%20di%20Milano/Desktop/Corsi/Correnti/CPAC/REPOs/Pose%20estimation/Dataset%20and%20Training.ipynb#ch0000057?line=3'>4</a>\u001b[0m \u001b[39mfor\u001b[39;00m num, prob \u001b[39min\u001b[39;00m \u001b[39menumerate\u001b[39m(res):\n\u001b[1;32m----> <a href='vscode-notebook-cell:/c%3A/Users/Paolo/OneDrive%20-%20Politecnico%20di%20Milano/Desktop/Corsi/Correnti/CPAC/REPOs/Pose%20estimation/Dataset%20and%20Training.ipynb#ch0000057?line=4'>5</a>\u001b[0m     cv2\u001b[39m.\u001b[39mrectangle(output_frame, (\u001b[39m0\u001b[39m,\u001b[39m60\u001b[39m\u001b[39m+\u001b[39mnum\u001b[39m*\u001b[39m\u001b[39m40\u001b[39m), (\u001b[39mint\u001b[39m(prob\u001b[39m*\u001b[39m\u001b[39m100\u001b[39m), \u001b[39m90\u001b[39m\u001b[39m+\u001b[39mnum\u001b[39m*\u001b[39m\u001b[39m40\u001b[39m), colors[num], \u001b[39m-\u001b[39m\u001b[39m1\u001b[39m)\n\u001b[0;32m      <a href='vscode-notebook-cell:/c%3A/Users/Paolo/OneDrive%20-%20Politecnico%20di%20Milano/Desktop/Corsi/Correnti/CPAC/REPOs/Pose%20estimation/Dataset%20and%20Training.ipynb#ch0000057?line=5'>6</a>\u001b[0m     cv2\u001b[39m.\u001b[39mputText(output_frame, actions[num], (\u001b[39m0\u001b[39m, \u001b[39m85\u001b[39m\u001b[39m+\u001b[39mnum\u001b[39m*\u001b[39m\u001b[39m40\u001b[39m), cv2\u001b[39m.\u001b[39mFONT_HERSHEY_SIMPLEX, \u001b[39m1\u001b[39m, (\u001b[39m255\u001b[39m,\u001b[39m255\u001b[39m,\u001b[39m255\u001b[39m), \u001b[39m2\u001b[39m, cv2\u001b[39m.\u001b[39mLINE_AA)\n\u001b[0;32m      <a href='vscode-notebook-cell:/c%3A/Users/Paolo/OneDrive%20-%20Politecnico%20di%20Milano/Desktop/Corsi/Correnti/CPAC/REPOs/Pose%20estimation/Dataset%20and%20Training.ipynb#ch0000057?line=7'>8</a>\u001b[0m \u001b[39mreturn\u001b[39;00m output_frame\n",
      "\u001b[1;31mIndexError\u001b[0m: list index out of range"
     ]
    },
    {
     "ename": "",
     "evalue": "",
     "output_type": "error",
     "traceback": [
      "\u001b[1;31mJupyter cannot be started. Error attempting to locate jupyter: Select an Interpreter to start Jupyter\n",
      "Run the following command to install 'jupyter and notebook' into the Python environment. \n",
      "Command: 'python -m pip install jupyter notebook -U\n",
      "or\n",
      "conda install jupyter notebook -U'\n",
      "Click <a href='https://aka.ms/installJupyterForVSCode'>here</a> for more info."
     ]
    }
   ],
   "source": [
    "# 1. New detection variables\n",
    "sequence = []\n",
    "sentence = []\n",
    "predictions = []\n",
    "threshold = 0.6\n",
    "\n",
    "cap = cv2.VideoCapture(0)\n",
    "# Set mediapipe model \n",
    "with mp_holistic.Holistic(min_detection_confidence=0.5, min_tracking_confidence=0.5) as holistic:\n",
    "    while cap.isOpened():\n",
    "\n",
    "        # Read feed\n",
    "        ret, frame = cap.read()\n",
    "\n",
    "        # Make detections\n",
    "        image, results = mediapipe_detection(frame, holistic)\n",
    "        print(results)\n",
    "        \n",
    "        # Draw landmarks\n",
    "        draw_styled_landmarks(image, results)\n",
    "        \n",
    "        # 2. Prediction logic\n",
    "        keypoints = extract_keypoints(results)\n",
    "        sequence.append(keypoints)\n",
    "        sequence = sequence[-sequence_length:]\n",
    "        \n",
    "        if len(sequence) == sequence_length:\n",
    "            res = model.predict(np.expand_dims(sequence, axis=0))[0]\n",
    "            print(actions[np.argmax(res)])\n",
    "            predictions.append(np.argmax(res))\n",
    "            \n",
    "            \n",
    "        #3. Viz logic\n",
    "            if np.unique(predictions[-10:])[0]==np.argmax(res): \n",
    "                if res[np.argmax(res)] > threshold: \n",
    "                    \n",
    "                    if len(sentence) > 0: \n",
    "                        if actions[np.argmax(res)] != sentence[-1]:\n",
    "                            sentence.append(actions[np.argmax(res)])\n",
    "                    else:\n",
    "                        sentence.append(actions[np.argmax(res)])\n",
    "\n",
    "            if len(sentence) > 5: \n",
    "                sentence = sentence[-5:]\n",
    "\n",
    "            # Viz probabilities\n",
    "            image = prob_viz(res, actions, image, colors)\n",
    "            \n",
    "        cv2.rectangle(image, (0,0), (640, 40), (245, 117, 16), -1)\n",
    "        cv2.putText(image, ' '.join(sentence), (3,30), \n",
    "                       cv2.FONT_HERSHEY_SIMPLEX, 1, (255, 255, 255), 2, cv2.LINE_AA)\n",
    "        \n",
    "        # Show to screen\n",
    "        cv2.imshow('OpenCV Feed', image)\n",
    "\n",
    "        # Break gracefully\n",
    "        if cv2.waitKey(10) & 0xFF == ord('q'):\n",
    "            break\n",
    "    cap.release()\n",
    "    cv2.destroyAllWindows()"
   ]
  },
  {
   "cell_type": "code",
   "execution_count": null,
   "metadata": {
    "pycharm": {
     "name": "#%%\n"
    }
   },
   "outputs": [
    {
     "ename": "",
     "evalue": "",
     "output_type": "error",
     "traceback": [
      "\u001b[1;31mJupyter cannot be started. Error attempting to locate jupyter: Select an Interpreter to start Jupyter\n",
      "Run the following command to install 'jupyter and notebook' into the Python environment. \n",
      "Command: 'python -m pip install jupyter notebook -U\n",
      "or\n",
      "conda install jupyter notebook -U'\n",
      "Click <a href='https://aka.ms/installJupyterForVSCode'>here</a> for more info."
     ]
    }
   ],
   "source": []
  }
 ],
 "metadata": {
  "kernelspec": {
   "display_name": "Python 3.10.4 ('MorphFun')",
   "language": "python",
   "name": "python3"
  },
  "language_info": {
   "codemirror_mode": {
    "name": "ipython",
    "version": 3
   },
   "file_extension": ".py",
   "mimetype": "text/x-python",
   "name": "python",
   "nbconvert_exporter": "python",
   "pygments_lexer": "ipython3",
   "version": "3.10.4"
  },
  "orig_nbformat": 4,
  "vscode": {
   "interpreter": {
    "hash": "1348d940821cbe46e8a5694fe720f729acf5d67cd86fc3e6dafa0fb103665481"
   }
  }
 },
 "nbformat": 4,
 "nbformat_minor": 2
}
